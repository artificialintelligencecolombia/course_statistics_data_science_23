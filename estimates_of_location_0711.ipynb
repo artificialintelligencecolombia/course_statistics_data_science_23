{
 "cells": [
  {
   "cell_type": "code",
   "execution_count": 1,
   "metadata": {},
   "outputs": [],
   "source": [
    "import pandas as pd\n",
    "import numpy as np\n",
    "from scipy import stats"
   ]
  },
  {
   "cell_type": "code",
   "execution_count": 2,
   "metadata": {},
   "outputs": [
    {
     "name": "stdout",
     "output_type": "stream",
     "text": [
      "   Conflict_ID             Conflict_Name  Year  Duration_Days Combatant1  \\\n",
      "0            1        Battle of Borodino  1807             90     France   \n",
      "1            2             Battle of Ulm  1810             20     France   \n",
      "2            3        Battle of Waterloo  1809             60     France   \n",
      "3            4       Battle of Trafalgar  1811             90     France   \n",
      "4            5  Battle of Jena–Auerstedt  1811             50     France   \n",
      "5            6    Battle of the Pyramids  1813             40     France   \n",
      "6            7         Battle of Marengo  1804             10     France   \n",
      "7            8         Battle of Leipzig  1809             40     France   \n",
      "8            9      Battle of Austerlitz  1810             60     France   \n",
      "9           10           Siege of Toulon  1810             10     France   \n",
      "\n",
      "       Combatant2         Theater  Casualties         Resolution  \n",
      "0         Prussia          Europe       12723     French Victory  \n",
      "1  United Kingdom     Middle East       44890  Coalition Victory  \n",
      "2          Russia     Middle East       18591  Coalition Victory  \n",
      "3         Austria     Middle East       59146  Coalition Victory  \n",
      "4  United Kingdom  Atlantic Ocean       60300  Coalition Victory  \n",
      "5        Portugal          Europe       21006          Stalemate  \n",
      "6  United Kingdom  Atlantic Ocean        4560          Stalemate  \n",
      "7  United Kingdom    North Africa       62713          Stalemate  \n",
      "8          Sweden          Europe       46444     French Victory  \n",
      "9  Ottoman Empire  Atlantic Ocean       47522          Stalemate  \n"
     ]
    }
   ],
   "source": [
    "# Set a seed for reproducibility\n",
    "np.random.seed(0)\n",
    "\n",
    "# Define the number of samples\n",
    "n_samples = 10\n",
    "\n",
    "# Some realistic names of battles/conflicts during the Napoleonic Wars\n",
    "conflict_names = [\n",
    "    'Battle of Austerlitz',\n",
    "    'Battle of Jena–Auerstedt',\n",
    "    'Battle of Borodino',\n",
    "    'Battle of Leipzig',\n",
    "    'Battle of Waterloo',\n",
    "    'Siege of Toulon',\n",
    "    'Battle of the Pyramids',\n",
    "    'Battle of Marengo',\n",
    "    'Battle of Ulm',\n",
    "    'Battle of Trafalgar'\n",
    "]\n",
    "\n",
    "# Assuming these are the primary combatants in different conflicts\n",
    "combatants = {\n",
    "    'France': ['France', 'French Empire', 'Napoleon'],\n",
    "    'Coalition': ['Russia', 'Austria', 'Prussia', 'United Kingdom', 'Spain', 'Portugal', 'Sweden', 'Ottoman Empire']\n",
    "}\n",
    "\n",
    "# Create a DataFrame\n",
    "df_napoleonic_wars = pd.DataFrame({\n",
    "    'Conflict_ID': range(1, n_samples + 1),\n",
    "    'Conflict_Name': np.random.choice(conflict_names, size=n_samples, replace=False),\n",
    "    'Year': np.random.choice(range(1803, 1815), size=n_samples, replace=True), # Napoleonic Wars period\n",
    "    'Duration_Days': np.random.randint(1, 10, size=n_samples) * 10, # Duration in days\n",
    "    'Combatant1': 'France',\n",
    "    'Combatant2': np.random.choice(combatants['Coalition'], size=n_samples),\n",
    "    'Theater': np.random.choice(['Europe', 'Middle East', 'North Africa', 'Atlantic Ocean'], size=n_samples),\n",
    "    'Casualties': np.random.randint(1000, 70000, size=n_samples), # A range of possible casualties\n",
    "    'Resolution': np.random.choice(['French Victory', 'Coalition Victory', 'Stalemate'], size=n_samples),\n",
    "})\n",
    "\n",
    "print(df_napoleonic_wars)\n"
   ]
  },
  {
   "cell_type": "code",
   "execution_count": 7,
   "metadata": {},
   "outputs": [
    {
     "name": "stdout",
     "output_type": "stream",
     "text": [
      "<class 'pandas.core.frame.DataFrame'>\n",
      "RangeIndex: 10 entries, 0 to 9\n",
      "Data columns (total 9 columns):\n",
      " #   Column         Non-Null Count  Dtype \n",
      "---  ------         --------------  ----- \n",
      " 0   Conflict_ID    10 non-null     int64 \n",
      " 1   Conflict_Name  10 non-null     object\n",
      " 2   Year           10 non-null     int32 \n",
      " 3   Duration_Days  10 non-null     int32 \n",
      " 4   Combatant1     10 non-null     object\n",
      " 5   Combatant2     10 non-null     object\n",
      " 6   Theater        10 non-null     object\n",
      " 7   Casualties     10 non-null     int32 \n",
      " 8   Resolution     10 non-null     object\n",
      "dtypes: int32(3), int64(1), object(5)\n",
      "memory usage: 728.0+ bytes\n"
     ]
    }
   ],
   "source": [
    "# EDA\n",
    "\n",
    "# Data Type\n",
    "\n",
    "#df_napoleonic_wars.info()\n",
    "#RangeIndex: 10 entries, 0 to 9\n",
    "#Data columns (total 9 columns):\n",
    "# #   Column         Non-Null Count  Dtype \n",
    "#---  ------         --------------  ----- \n",
    "# 0   Conflict_ID    nominal     int64 \n",
    "# 1   Conflict_Name  categorical     object\n",
    "# 2   Year           discrete     int32 \n",
    "# 3   Duration_Days  discrete     int32 \n",
    "# 4   Combatant1     categorical     object\n",
    "# 5   Combatant2     categorical     object\n",
    "# 6   Theater        categorical     object\n",
    "# 7   Casualties     continuous     int32 \n",
    "# 8   Resolution     categorical     object\n",
    "#dtypes: int32(3), int64(1), object(5)"
   ]
  },
  {
   "cell_type": "code",
   "execution_count": 9,
   "metadata": {},
   "outputs": [
    {
     "name": "stdout",
     "output_type": "stream",
     "text": [
      "mean Casualeties:  37789.5\n",
      "trimmed mean Casualties:  38827.75\n",
      "median Casualties:  45667.0\n"
     ]
    }
   ],
   "source": [
    "# Estimates of location\n",
    "\n",
    "# E.L. of casualties\n",
    "casualties_series = df_napoleonic_wars['Casualties']\n",
    "\n",
    "# mean\n",
    "mean_casualties = np.mean(casualties_series)\n",
    "print('mean Casualeties: ',mean_casualties) # mean\n",
    "\n",
    "# trimmed mean\n",
    "trimmed_mean_casualties = stats.trim_mean(casualties_series, 0.1)\n",
    "print('trimmed mean Casualties: ',trimmed_mean_casualties) # trimmed mean\n",
    "\n",
    "# median\n",
    "median_casualties = np.median(casualties_series)\n",
    "print('median Casualties: ',median_casualties) \n",
    "\n",
    "# trimmed median\n",
    "trimmed_median_casualties = stats.trim_median(casualties_series,0.1)\n",
    "# a robust measurement is merely affected by the outliers\n",
    "\n",
    "\n",
    "\n"
   ]
  },
  {
   "cell_type": "code",
   "execution_count": null,
   "metadata": {},
   "outputs": [],
   "source": []
  }
 ],
 "metadata": {
  "kernelspec": {
   "display_name": "Python 3",
   "language": "python",
   "name": "python3"
  },
  "language_info": {
   "codemirror_mode": {
    "name": "ipython",
    "version": 3
   },
   "file_extension": ".py",
   "mimetype": "text/x-python",
   "name": "python",
   "nbconvert_exporter": "python",
   "pygments_lexer": "ipython3",
   "version": "3.11.5"
  }
 },
 "nbformat": 4,
 "nbformat_minor": 2
}
